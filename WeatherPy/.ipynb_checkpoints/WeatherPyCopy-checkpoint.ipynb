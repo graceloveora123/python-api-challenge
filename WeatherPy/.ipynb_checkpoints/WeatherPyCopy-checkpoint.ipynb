{
 "cells": [
  {
   "cell_type": "markdown",
   "metadata": {},
   "source": [
    "# WeatherPy\n",
    "----\n",
    "\n",
    "#### Note\n",
    "* Instructions have been included for each segment. You do not have to follow them exactly, but they are included to help you think through the steps."
   ]
  },
  {
   "cell_type": "code",
   "execution_count": 97,
   "metadata": {
    "scrolled": true
   },
   "outputs": [],
   "source": [
    "# Dependencies and Setup\n",
    "import matplotlib.pyplot as plt\n",
    "import pandas as pd\n",
    "import numpy as np\n",
    "import requests\n",
    "import time\n",
    "import scipy.stats as st\n",
    "from scipy.stats import linregress\n",
    "\n",
    "# Import API key\n",
    "from api_keys import weather_api_key\n",
    "\n",
    "# Incorporated citipy to determine city based on latitude and longitude\n",
    "from citipy import citipy\n",
    "\n",
    "#Output File (CSV)\n",
    "output_data_file = \"output_data/cities.csv\"\n",
    "\n",
    "# Range of latitudes and longitudes\n",
    "lat_range = (-90, 90)\n",
    "lng_range = (-180, 180)"
   ]
  },
  {
   "cell_type": "markdown",
   "metadata": {},
   "source": [
    "## Generate Cities List"
   ]
  },
  {
   "cell_type": "code",
   "execution_count": 45,
   "metadata": {},
   "outputs": [
    {
     "data": {
      "text/plain": [
       "582"
      ]
     },
     "execution_count": 45,
     "metadata": {},
     "output_type": "execute_result"
    }
   ],
   "source": [
    "# List for holding lat_lngs and cities\n",
    "lat_lngs = []\n",
    "cities = []\n",
    "\n",
    "# Create a set of random lat and lng combinations\n",
    "lats = np.random.uniform(lat_range[0], lat_range[1], size=1500)\n",
    "lngs = np.random.uniform(lng_range[0], lng_range[1], size=1500)\n",
    "lat_lngs = zip(lats, lngs)\n",
    "\n",
    "# Identify nearest city for each lat, lng combination\n",
    "for lat_lng in lat_lngs:\n",
    "    city = citipy.nearest_city(lat_lng[0], lat_lng[1]).city_name\n",
    "    \n",
    "    # If the city is unique, then add it to a our cities list\n",
    "    if city not in cities:\n",
    "        cities.append(city)\n",
    "\n",
    "# Print the city count to confirm sufficient count\n",
    "len(cities)"
   ]
  },
  {
   "cell_type": "markdown",
   "metadata": {},
   "source": [
    "### Perform API Calls\n",
    "* Perform a weather check on each city using a series of successive API calls.\n",
    "* Include a print log of each city as it'sbeing processed (with the city number and city name).\n"
   ]
  },
  {
   "cell_type": "code",
   "execution_count": 19,
   "metadata": {
    "scrolled": true
   },
   "outputs": [
    {
     "data": {
      "text/html": [
       "<div>\n",
       "<style scoped>\n",
       "    .dataframe tbody tr th:only-of-type {\n",
       "        vertical-align: middle;\n",
       "    }\n",
       "\n",
       "    .dataframe tbody tr th {\n",
       "        vertical-align: top;\n",
       "    }\n",
       "\n",
       "    .dataframe thead th {\n",
       "        text-align: right;\n",
       "    }\n",
       "</style>\n",
       "<table border=\"1\" class=\"dataframe\">\n",
       "  <thead>\n",
       "    <tr style=\"text-align: right;\">\n",
       "      <th></th>\n",
       "      <th>City</th>\n",
       "      <th>Lat</th>\n",
       "      <th>Lng</th>\n",
       "      <th>Max Temp</th>\n",
       "      <th>Humidity</th>\n",
       "      <th>Cloudiness</th>\n",
       "      <th>Wind</th>\n",
       "      <th>Speed</th>\n",
       "      <th>Country</th>\n",
       "      <th>Date</th>\n",
       "    </tr>\n",
       "  </thead>\n",
       "  <tbody>\n",
       "    <tr>\n",
       "      <th>0</th>\n",
       "      <td>atuona</td>\n",
       "      <td></td>\n",
       "      <td></td>\n",
       "      <td></td>\n",
       "      <td></td>\n",
       "      <td></td>\n",
       "      <td></td>\n",
       "      <td></td>\n",
       "      <td></td>\n",
       "      <td></td>\n",
       "    </tr>\n",
       "    <tr>\n",
       "      <th>1</th>\n",
       "      <td>yichang</td>\n",
       "      <td></td>\n",
       "      <td></td>\n",
       "      <td></td>\n",
       "      <td></td>\n",
       "      <td></td>\n",
       "      <td></td>\n",
       "      <td></td>\n",
       "      <td></td>\n",
       "      <td></td>\n",
       "    </tr>\n",
       "    <tr>\n",
       "      <th>2</th>\n",
       "      <td>yellowknife</td>\n",
       "      <td></td>\n",
       "      <td></td>\n",
       "      <td></td>\n",
       "      <td></td>\n",
       "      <td></td>\n",
       "      <td></td>\n",
       "      <td></td>\n",
       "      <td></td>\n",
       "      <td></td>\n",
       "    </tr>\n",
       "    <tr>\n",
       "      <th>3</th>\n",
       "      <td>saint george</td>\n",
       "      <td></td>\n",
       "      <td></td>\n",
       "      <td></td>\n",
       "      <td></td>\n",
       "      <td></td>\n",
       "      <td></td>\n",
       "      <td></td>\n",
       "      <td></td>\n",
       "      <td></td>\n",
       "    </tr>\n",
       "    <tr>\n",
       "      <th>4</th>\n",
       "      <td>dover</td>\n",
       "      <td></td>\n",
       "      <td></td>\n",
       "      <td></td>\n",
       "      <td></td>\n",
       "      <td></td>\n",
       "      <td></td>\n",
       "      <td></td>\n",
       "      <td></td>\n",
       "      <td></td>\n",
       "    </tr>\n",
       "  </tbody>\n",
       "</table>\n",
       "</div>"
      ],
      "text/plain": [
       "           City Lat Lng Max Temp Humidity Cloudiness Wind Speed Country Date\n",
       "0        atuona                                                             \n",
       "1       yichang                                                             \n",
       "2   yellowknife                                                             \n",
       "3  saint george                                                             \n",
       "4         dover                                                             "
      ]
     },
     "execution_count": 19,
     "metadata": {},
     "output_type": "execute_result"
    }
   ],
   "source": [
    "city_df=pd.DataFrame(cities,columns=['City'])\n",
    "city_df[\"Lat\"]=''\n",
    "city_df[\"Lng\"]=''\n",
    "city_df[\"Max Temp\"]=''\n",
    "city_df[\"Humidity\"]=''\n",
    "city_df[\"Cloudiness\"]=''\n",
    "city_df[\"Wind\"]=''\n",
    "city_df[\"Speed\"]=''\n",
    "city_df[\"Country\"]=''\n",
    "city_df[\"Date\"]=''\n",
    "city_df.head()"
   ]
  },
  {
   "cell_type": "code",
   "execution_count": 51,
   "metadata": {},
   "outputs": [],
   "source": [
    " # Save config information.\n",
    "url = \"http://api.openweathermap.org/data/2.5/weather?\"\n",
    "units = \"metric\"\n",
    "\n",
    "# Build partial query URL\n",
    "query_url = f\"{url}appid={weather_api_key}&units={units}&q=\""
   ]
  },
  {
   "cell_type": "code",
   "execution_count": 62,
   "metadata": {},
   "outputs": [
    {
     "name": "stdout",
     "output_type": "stream",
     "text": [
      "Processing Record 1 of Set 1 | punta arenas\n",
      "Processing Record 2 of Set 1 | qaanaaq\n",
      "Processing Record 3 of Set 1 | tasiilaq\n",
      "Processing Record 4 of Set 1 | vila velha\n",
      "Processing Record 5 of Set 1 | castro\n",
      "Processing Record 6 of Set 1 | rikitea\n",
      "Processing Record 7 of Set 1 | kapaa\n",
      "Processing Record 8 of Set 1 | yellowknife\n",
      "Processing Record 9 of Set 1 | mataura\n",
      "Processing Record 10 of Set 1 | hermanus\n",
      "Processing Record 11 of Set 1 | say\n",
      "Processing Record 12 of Set 1 | tuatapere\n",
      "Processing Record 13 of Set 1 | bluff\n",
      "Processing Record 14 of Set 1 | ekhabi\n",
      "Processing Record 15 of Set 1 | georgetown\n",
      "Processing Record 16 of Set 1 | hamilton\n",
      "Processing Record 17 of Set 1 | busselton\n",
      "Processing Record 18 of Set 1 | krasnoselkup\n",
      "Processing Record 19 of Set 1 | baykit\n",
      "Processing Record 20 of Set 1 | grand gaube\n",
      "Processing Record 21 of Set 1 | avarua\n",
      "Processing Record 22 of Set 1 | mabaruma\n",
      "Processing Record 23 of Set 1 | yarmouth\n",
      "Processing Record 24 of Set 1 | kolyshley\n",
      "Processing Record 25 of Set 1 | quatre cocos\n",
      "Processing Record 26 of Set 1 | hilo\n",
      "Processing Record 27 of Set 1 | kiunga\n",
      "Processing Record 28 of Set 1 | bethel\n",
      "Processing Record 29 of Set 1 | braganca\n",
      "Processing Record 30 of Set 1 | gazli\n",
      "Processing Record 31 of Set 1 | cape town\n",
      "Processing Record 32 of Set 1 | albany\n",
      "Processing Record 33 of Set 1 | port elizabeth\n",
      "Processing Record 34 of Set 1 | cherskiy\n",
      "Processing Record 35 of Set 1 | fort nelson\n",
      "Processing Record 36 of Set 1 | nerchinskiy zavod\n",
      "Processing Record 37 of Set 1 | tazovskiy\n",
      "Processing Record 38 of Set 1 | iqaluit\n",
      "Processing Record 39 of Set 1 | alexandria\n",
      "Processing Record 40 of Set 1 | khatanga\n",
      "City not found. Skipping...\n",
      "Processing Record 41 of Set 1 | ushuaia\n",
      "Processing Record 42 of Set 1 | kaitangata\n",
      "Processing Record 43 of Set 1 | champerico\n",
      "Processing Record 44 of Set 1 | lakes entrance\n",
      "Processing Record 45 of Set 1 | darhan\n",
      "Processing Record 46 of Set 1 | battle creek\n",
      "Processing Record 47 of Set 1 | nikolskoye\n",
      "Processing Record 48 of Set 1 | atuona\n",
      "Processing Record 49 of Set 1 | hithadhoo\n",
      "Processing Record 1 of Set 2 | tuktoyaktuk\n",
      "Processing Record 2 of Set 2 | sungairaya\n",
      "City not found. Skipping...\n",
      "Processing Record 3 of Set 2 | tateyama\n",
      "Processing Record 4 of Set 2 | opuwo\n",
      "Processing Record 5 of Set 2 | berlevag\n",
      "Processing Record 6 of Set 2 | carnarvon\n",
      "City not found. Skipping...\n",
      "Processing Record 7 of Set 2 | upernavik\n",
      "Processing Record 8 of Set 2 | saldanha\n",
      "Processing Record 9 of Set 2 | severo-kurilsk\n",
      "Processing Record 10 of Set 2 | fukue\n",
      "Processing Record 11 of Set 2 | stokmarknes\n",
      "Processing Record 12 of Set 2 | labuhan\n",
      "Processing Record 13 of Set 2 | anadyr\n",
      "Processing Record 14 of Set 2 | vaini\n",
      "Processing Record 15 of Set 2 | kavaratti\n",
      "Processing Record 16 of Set 2 | saskylakh\n",
      "Processing Record 17 of Set 2 | pilar\n",
      "Processing Record 18 of Set 2 | east london\n",
      "Processing Record 19 of Set 2 | port lincoln\n",
      "Processing Record 20 of Set 2 | candido mendes\n",
      "Processing Record 21 of Set 2 | mayo\n",
      "Processing Record 22 of Set 2 | necochea\n",
      "Processing Record 23 of Set 2 | klyuchi\n",
      "Processing Record 24 of Set 2 | halifax\n",
      "Processing Record 25 of Set 2 | acarau\n",
      "Processing Record 26 of Set 2 | ribeira grande\n",
      "Processing Record 27 of Set 2 | port alfred\n",
      "City not found. Skipping...\n",
      "City not found. Skipping...\n",
      "Processing Record 28 of Set 2 | kouroussa\n",
      "Processing Record 29 of Set 2 | praya\n",
      "Processing Record 30 of Set 2 | saint-joseph\n",
      "Processing Record 31 of Set 2 | isiro\n",
      "Processing Record 32 of Set 2 | jamestown\n",
      "Processing Record 33 of Set 2 | pestyaki\n",
      "Processing Record 34 of Set 2 | dikson\n",
      "City not found. Skipping...\n",
      "City not found. Skipping...\n",
      "Processing Record 35 of Set 2 | arraial do cabo\n",
      "Processing Record 36 of Set 2 | sangar\n",
      "Processing Record 37 of Set 2 | mahebourg\n",
      "Processing Record 38 of Set 2 | mangai\n",
      "City not found. Skipping...\n",
      "Processing Record 39 of Set 2 | coquimbo\n",
      "Processing Record 40 of Set 2 | tiksi\n",
      "Processing Record 41 of Set 2 | llanes\n",
      "Processing Record 42 of Set 2 | petropavlovsk-kamchatskiy\n",
      "Processing Record 43 of Set 2 | maceio\n",
      "Processing Record 44 of Set 2 | lipari\n",
      "Processing Record 45 of Set 2 | haverfordwest\n",
      "City not found. Skipping...\n",
      "Processing Record 46 of Set 2 | longyearbyen\n",
      "Processing Record 47 of Set 2 | thompson\n",
      "Processing Record 48 of Set 2 | murgab\n",
      "Processing Record 49 of Set 2 | hobart\n",
      "Processing Record 1 of Set 3 | eidsvag\n",
      "Processing Record 2 of Set 3 | saint george\n",
      "Processing Record 3 of Set 3 | rongcheng\n",
      "Processing Record 4 of Set 3 | barrow\n",
      "Processing Record 5 of Set 3 | butaritari\n",
      "Processing Record 6 of Set 3 | cesky brod\n",
      "Processing Record 7 of Set 3 | bengkulu\n",
      "Processing Record 8 of Set 3 | ahipara\n",
      "Processing Record 9 of Set 3 | zarichne\n",
      "City not found. Skipping...\n",
      "Processing Record 10 of Set 3 | saint-philippe\n",
      "Processing Record 11 of Set 3 | broken hill\n",
      "Processing Record 12 of Set 3 | kamwenge\n",
      "Processing Record 13 of Set 3 | saint-pierre\n",
      "Processing Record 14 of Set 3 | adre\n",
      "Processing Record 15 of Set 3 | matara\n",
      "Processing Record 16 of Set 3 | new norfolk\n",
      "Processing Record 17 of Set 3 | kedrovyy\n",
      "Processing Record 18 of Set 3 | kuhdasht\n",
      "Processing Record 19 of Set 3 | paragominas\n",
      "Processing Record 20 of Set 3 | mar del plata\n",
      "Processing Record 21 of Set 3 | bredasdorp\n",
      "City not found. Skipping...\n",
      "Processing Record 22 of Set 3 | ilulissat\n",
      "Processing Record 23 of Set 3 | dharchula\n",
      "City not found. Skipping...\n",
      "Processing Record 24 of Set 3 | puerto ayora\n",
      "City not found. Skipping...\n",
      "Processing Record 25 of Set 3 | narsaq\n",
      "Processing Record 26 of Set 3 | guatire\n",
      "Processing Record 27 of Set 3 | micheweni\n",
      "Processing Record 28 of Set 3 | hasaki\n",
      "Processing Record 29 of Set 3 | zyryanka\n",
      "Processing Record 30 of Set 3 | poya\n",
      "Processing Record 31 of Set 3 | linxia\n",
      "Processing Record 32 of Set 3 | muqui\n",
      "Processing Record 33 of Set 3 | highland springs\n",
      "Processing Record 34 of Set 3 | vodnyy\n",
      "Processing Record 35 of Set 3 | lethem\n",
      "Processing Record 36 of Set 3 | inongo\n",
      "Processing Record 37 of Set 3 | jiaohe\n",
      "Processing Record 38 of Set 3 | floro\n",
      "City not found. Skipping...\n",
      "Processing Record 39 of Set 3 | placerville\n",
      "Processing Record 40 of Set 3 | indramayu\n",
      "City not found. Skipping...\n",
      "Processing Record 41 of Set 3 | norman wells\n",
      "Processing Record 42 of Set 3 | chapais\n",
      "Processing Record 43 of Set 3 | plettenberg bay\n",
      "Processing Record 44 of Set 3 | talnakh\n",
      "City not found. Skipping...\n",
      "City not found. Skipping...\n",
      "Processing Record 45 of Set 3 | banda aceh\n",
      "City not found. Skipping...\n",
      "Processing Record 46 of Set 3 | alta floresta\n",
      "Processing Record 47 of Set 3 | varzea da palma\n",
      "City not found. Skipping...\n",
      "Processing Record 48 of Set 3 | geraldton\n",
      "Processing Record 49 of Set 3 | kayerkan\n",
      "Processing Record 1 of Set 4 | ancud\n",
      "Processing Record 2 of Set 4 | amboasary\n",
      "Processing Record 3 of Set 4 | vradiyivka\n",
      "Processing Record 4 of Set 4 | kununurra\n",
      "Processing Record 5 of Set 4 | lac du bonnet\n",
      "Processing Record 6 of Set 4 | jian\n",
      "Processing Record 7 of Set 4 | manggar\n",
      "Processing Record 8 of Set 4 | sikasso\n",
      "Processing Record 9 of Set 4 | kruisfontein\n",
      "Processing Record 10 of Set 4 | lahaina\n",
      "Processing Record 11 of Set 4 | bonavista\n",
      "Processing Record 12 of Set 4 | kuntaur\n",
      "Processing Record 13 of Set 4 | schmolln\n",
      "Processing Record 14 of Set 4 | iranshahr\n",
      "Processing Record 15 of Set 4 | yumen\n",
      "Processing Record 16 of Set 4 | ponta do sol\n",
      "Processing Record 17 of Set 4 | katsuura\n",
      "Processing Record 18 of Set 4 | lebu\n",
      "Processing Record 19 of Set 4 | ilava\n",
      "Processing Record 20 of Set 4 | elat\n",
      "Processing Record 21 of Set 4 | comodoro rivadavia\n",
      "Processing Record 22 of Set 4 | asau\n",
      "Processing Record 23 of Set 4 | satao\n",
      "Processing Record 24 of Set 4 | aykhal\n",
      "Processing Record 25 of Set 4 | jiwani\n",
      "Processing Record 26 of Set 4 | burnie\n",
      "Processing Record 27 of Set 4 | monrovia\n",
      "Processing Record 28 of Set 4 | luderitz\n",
      "Processing Record 29 of Set 4 | oussouye\n",
      "Processing Record 30 of Set 4 | hualmay\n",
      "Processing Record 31 of Set 4 | brae\n",
      "Processing Record 32 of Set 4 | fairbanks\n",
      "Processing Record 33 of Set 4 | sorong\n",
      "Processing Record 34 of Set 4 | beringovskiy\n",
      "Processing Record 35 of Set 4 | altay\n",
      "Processing Record 36 of Set 4 | san cristobal\n",
      "Processing Record 37 of Set 4 | neuquen\n",
      "Processing Record 38 of Set 4 | shawnee\n",
      "Processing Record 39 of Set 4 | taltal\n"
     ]
    },
    {
     "name": "stdout",
     "output_type": "stream",
     "text": [
      "Processing Record 40 of Set 4 | codrington\n",
      "City not found. Skipping...\n",
      "Processing Record 41 of Set 4 | odweyne\n",
      "City not found. Skipping...\n",
      "Processing Record 42 of Set 4 | oistins\n",
      "Processing Record 43 of Set 4 | sur\n",
      "Processing Record 44 of Set 4 | tahta\n",
      "Processing Record 45 of Set 4 | faanui\n",
      "Processing Record 46 of Set 4 | abu zabad\n",
      "Processing Record 47 of Set 4 | souillac\n",
      "Processing Record 48 of Set 4 | petropavl\n",
      "City not found. Skipping...\n",
      "City not found. Skipping...\n",
      "Processing Record 49 of Set 4 | luangwa\n",
      "Processing Record 1 of Set 5 | yulara\n",
      "City not found. Skipping...\n",
      "Processing Record 2 of Set 5 | paamiut\n",
      "Processing Record 3 of Set 5 | te anau\n",
      "Processing Record 4 of Set 5 | ostrovnoy\n",
      "City not found. Skipping...\n",
      "Processing Record 5 of Set 5 | pingzhuang\n",
      "Processing Record 6 of Set 5 | esperance\n",
      "Processing Record 7 of Set 5 | nova olinda do norte\n",
      "Processing Record 8 of Set 5 | san patricio\n",
      "Processing Record 9 of Set 5 | zhangzhou\n",
      "Processing Record 10 of Set 5 | espanola\n",
      "Processing Record 11 of Set 5 | san quintin\n",
      "Processing Record 12 of Set 5 | estevan\n",
      "Processing Record 13 of Set 5 | binga\n",
      "Processing Record 14 of Set 5 | leningradskiy\n",
      "Processing Record 15 of Set 5 | padang\n",
      "Processing Record 16 of Set 5 | chuy\n",
      "Processing Record 17 of Set 5 | vestmannaeyjar\n",
      "Processing Record 18 of Set 5 | salalah\n",
      "City not found. Skipping...\n",
      "Processing Record 19 of Set 5 | svetlaya\n",
      "City not found. Skipping...\n",
      "Processing Record 20 of Set 5 | dekar\n",
      "City not found. Skipping...\n",
      "Processing Record 21 of Set 5 | springfield\n",
      "Processing Record 22 of Set 5 | cap malheureux\n",
      "Processing Record 23 of Set 5 | cidreira\n",
      "Processing Record 24 of Set 5 | quang ngai\n",
      "City not found. Skipping...\n",
      "Processing Record 25 of Set 5 | nieuw nickerie\n",
      "Processing Record 26 of Set 5 | yamada\n",
      "Processing Record 27 of Set 5 | alofi\n",
      "Processing Record 28 of Set 5 | adrar\n",
      "Processing Record 29 of Set 5 | mitake\n",
      "City not found. Skipping...\n",
      "Processing Record 30 of Set 5 | lazaro cardenas\n",
      "Processing Record 31 of Set 5 | kaihua\n",
      "Processing Record 32 of Set 5 | palauig\n",
      "Processing Record 33 of Set 5 | victoria\n",
      "Processing Record 34 of Set 5 | anaco\n",
      "Processing Record 35 of Set 5 | namibe\n",
      "Processing Record 36 of Set 5 | oktyabrskiy\n",
      "Processing Record 37 of Set 5 | janesville\n",
      "Processing Record 38 of Set 5 | sisophon\n",
      "Processing Record 39 of Set 5 | shaowu\n",
      "Processing Record 40 of Set 5 | qaqortoq\n",
      "Processing Record 41 of Set 5 | seoul\n",
      "Processing Record 42 of Set 5 | kabanjahe\n",
      "Processing Record 43 of Set 5 | aloleng\n",
      "Processing Record 44 of Set 5 | pevek\n",
      "Processing Record 45 of Set 5 | dunedin\n",
      "Processing Record 46 of Set 5 | masterton\n",
      "Processing Record 47 of Set 5 | buala\n",
      "Processing Record 48 of Set 5 | alberton\n",
      "Processing Record 49 of Set 5 | rawson\n",
      "Processing Record 1 of Set 6 | mango\n",
      "Processing Record 2 of Set 6 | tiznit\n",
      "Processing Record 3 of Set 6 | sola\n",
      "Processing Record 4 of Set 6 | soyo\n",
      "Processing Record 5 of Set 6 | goicea\n",
      "Processing Record 6 of Set 6 | cabo san lucas\n",
      "City not found. Skipping...\n",
      "Processing Record 7 of Set 6 | sovetskiy\n",
      "Processing Record 8 of Set 6 | gat\n",
      "Processing Record 9 of Set 6 | stephenville\n",
      "Processing Record 10 of Set 6 | klaksvik\n",
      "Processing Record 11 of Set 6 | cayenne\n",
      "Processing Record 12 of Set 6 | darab\n",
      "Processing Record 13 of Set 6 | naze\n",
      "Processing Record 14 of Set 6 | asfi\n",
      "Processing Record 15 of Set 6 | ziro\n",
      "Processing Record 16 of Set 6 | isla mujeres\n",
      "Processing Record 17 of Set 6 | bambous virieux\n",
      "Processing Record 18 of Set 6 | camacha\n",
      "City not found. Skipping...\n",
      "Processing Record 19 of Set 6 | noumea\n",
      "Processing Record 20 of Set 6 | lompoc\n",
      "Processing Record 21 of Set 6 | bukama\n",
      "Processing Record 22 of Set 6 | calvinia\n",
      "Processing Record 23 of Set 6 | mantua\n",
      "Processing Record 24 of Set 6 | dongsheng\n",
      "Processing Record 25 of Set 6 | korla\n",
      "Processing Record 26 of Set 6 | namatanai\n",
      "Processing Record 27 of Set 6 | yabrud\n",
      "Processing Record 28 of Set 6 | dingle\n",
      "Processing Record 29 of Set 6 | tabas\n",
      "Processing Record 30 of Set 6 | shimoda\n",
      "Processing Record 31 of Set 6 | athabasca\n",
      "Processing Record 32 of Set 6 | mandalgovi\n",
      "Processing Record 33 of Set 6 | macae\n",
      "Processing Record 34 of Set 6 | ewa beach\n",
      "Processing Record 35 of Set 6 | uruzgan\n",
      "Processing Record 36 of Set 6 | nemuro\n",
      "Processing Record 37 of Set 6 | aswan\n",
      "Processing Record 38 of Set 6 | aranos\n",
      "City not found. Skipping...\n",
      "Processing Record 39 of Set 6 | boppard\n",
      "Processing Record 40 of Set 6 | samarai\n",
      "Processing Record 41 of Set 6 | faya\n",
      "Processing Record 42 of Set 6 | hami\n",
      "Processing Record 43 of Set 6 | tuy hoa\n",
      "Processing Record 44 of Set 6 | russell\n",
      "Processing Record 45 of Set 6 | chirongui\n",
      "Processing Record 46 of Set 6 | vilyuysk\n",
      "Processing Record 47 of Set 6 | dong hoi\n",
      "Processing Record 48 of Set 6 | clyde river\n",
      "Processing Record 49 of Set 6 | pitea\n",
      "City not found. Skipping...\n",
      "Processing Record 1 of Set 7 | nelson bay\n",
      "Processing Record 2 of Set 7 | eyrarbakki\n",
      "Processing Record 3 of Set 7 | karauli\n",
      "Processing Record 4 of Set 7 | bom jesus\n",
      "Processing Record 5 of Set 7 | tezu\n",
      "Processing Record 6 of Set 7 | kaohsiung\n",
      "Processing Record 7 of Set 7 | makakilo city\n",
      "Processing Record 8 of Set 7 | mount gambier\n",
      "Processing Record 9 of Set 7 | rovaniemi\n",
      "City not found. Skipping...\n",
      "Processing Record 10 of Set 7 | tautira\n",
      "Processing Record 11 of Set 7 | nanortalik\n",
      "Processing Record 12 of Set 7 | omsukchan\n",
      "Processing Record 13 of Set 7 | chokurdakh\n",
      "Processing Record 14 of Set 7 | boyuibe\n",
      "Processing Record 15 of Set 7 | dvurechensk\n",
      "City not found. Skipping...\n",
      "Processing Record 16 of Set 7 | barra dos coqueiros\n",
      "Processing Record 17 of Set 7 | bud\n",
      "Processing Record 18 of Set 7 | kavieng\n",
      "Processing Record 19 of Set 7 | sao joao da barra\n",
      "Processing Record 20 of Set 7 | zaranj\n",
      "Processing Record 21 of Set 7 | port-cartier\n",
      "Processing Record 22 of Set 7 | san joaquin\n",
      "Processing Record 23 of Set 7 | pacifica\n",
      "Processing Record 24 of Set 7 | maldonado\n",
      "Processing Record 25 of Set 7 | benghazi\n",
      "Processing Record 26 of Set 7 | unity\n",
      "Processing Record 27 of Set 7 | torbay\n",
      "City not found. Skipping...\n",
      "Processing Record 28 of Set 7 | nizwa\n",
      "Processing Record 29 of Set 7 | komsomolskiy\n",
      "City not found. Skipping...\n",
      "Processing Record 30 of Set 7 | sao filipe\n",
      "City not found. Skipping...\n",
      "Processing Record 31 of Set 7 | marsa matruh\n",
      "Processing Record 32 of Set 7 | mazara del vallo\n",
      "Processing Record 33 of Set 7 | buraydah\n",
      "Processing Record 34 of Set 7 | aksarka\n",
      "Processing Record 35 of Set 7 | piacabucu\n",
      "Processing Record 36 of Set 7 | ossora\n",
      "Processing Record 37 of Set 7 | cotonou\n",
      "Processing Record 38 of Set 7 | igunga\n",
      "Processing Record 39 of Set 7 | surgut\n",
      "Processing Record 40 of Set 7 | tukrah\n",
      "Processing Record 41 of Set 7 | mercedes\n",
      "Processing Record 42 of Set 7 | kolomna\n",
      "Processing Record 43 of Set 7 | cairns\n",
      "Processing Record 44 of Set 7 | bambanglipuro\n",
      "Processing Record 45 of Set 7 | caohai\n",
      "Processing Record 46 of Set 7 | murmashi\n",
      "Processing Record 47 of Set 7 | marsaxlokk\n",
      "Processing Record 48 of Set 7 | brookings\n",
      "Processing Record 49 of Set 7 | huarmey\n",
      "Processing Record 1 of Set 8 | tolaga bay\n",
      "Processing Record 2 of Set 8 | marquette\n",
      "Processing Record 3 of Set 8 | agadez\n",
      "Processing Record 4 of Set 8 | baruun-urt\n",
      "City not found. Skipping...\n",
      "Processing Record 5 of Set 8 | diamantino\n",
      "Processing Record 6 of Set 8 | acapulco\n",
      "City not found. Skipping...\n",
      "Processing Record 7 of Set 8 | the valley\n",
      "Processing Record 8 of Set 8 | cherbourg\n",
      "Processing Record 9 of Set 8 | bangassou\n",
      "Processing Record 10 of Set 8 | vertou\n",
      "Processing Record 11 of Set 8 | nuuk\n",
      "Processing Record 12 of Set 8 | port-gentil\n",
      "Processing Record 13 of Set 8 | bilma\n",
      "Processing Record 14 of Set 8 | lorengau\n",
      "Processing Record 15 of Set 8 | pangkalanbuun\n",
      "Processing Record 16 of Set 8 | caluquembe\n",
      "Processing Record 17 of Set 8 | vanavara\n",
      "Processing Record 18 of Set 8 | lewiston\n",
      "Processing Record 19 of Set 8 | rayagada\n",
      "Processing Record 20 of Set 8 | atar\n",
      "Processing Record 21 of Set 8 | solnechnyy\n",
      "City not found. Skipping...\n",
      "Processing Record 22 of Set 8 | kamariotissa\n",
      "City not found. Skipping...\n",
      "Processing Record 23 of Set 8 | isangel\n",
      "Processing Record 24 of Set 8 | high level\n",
      "Processing Record 25 of Set 8 | hamamatsu\n",
      "Processing Record 26 of Set 8 | boddam\n",
      "Processing Record 27 of Set 8 | casas grandes\n",
      "Processing Record 28 of Set 8 | sangueya\n",
      "Processing Record 29 of Set 8 | pafos\n"
     ]
    },
    {
     "name": "stdout",
     "output_type": "stream",
     "text": [
      "Processing Record 30 of Set 8 | ulladulla\n",
      "Processing Record 31 of Set 8 | olafsvik\n",
      "Processing Record 32 of Set 8 | la palma\n",
      "Processing Record 33 of Set 8 | kyabe\n",
      "Processing Record 34 of Set 8 | taoudenni\n",
      "Processing Record 35 of Set 8 | longhua\n",
      "Processing Record 36 of Set 8 | macusani\n",
      "Processing Record 37 of Set 8 | redmond\n",
      "Processing Record 38 of Set 8 | pocerski pricinovic\n",
      "Processing Record 39 of Set 8 | muroto\n",
      "Processing Record 40 of Set 8 | iquique\n",
      "Processing Record 41 of Set 8 | haapiti\n",
      "Processing Record 42 of Set 8 | hervey bay\n",
      "City not found. Skipping...\n",
      "Processing Record 43 of Set 8 | natal\n",
      "Processing Record 44 of Set 8 | calama\n",
      "Processing Record 45 of Set 8 | swinford\n",
      "Processing Record 46 of Set 8 | robertsport\n",
      "Processing Record 47 of Set 8 | honiara\n",
      "Processing Record 48 of Set 8 | pisco\n",
      "Processing Record 49 of Set 8 | tornio\n",
      "Processing Record 1 of Set 9 | siddapur\n",
      "Processing Record 2 of Set 9 | inuvik\n",
      "Processing Record 3 of Set 9 | aksay\n",
      "Processing Record 4 of Set 9 | svetlogorsk\n",
      "Processing Record 5 of Set 9 | provideniya\n",
      "Processing Record 6 of Set 9 | pochutla\n",
      "Processing Record 7 of Set 9 | asyut\n",
      "Processing Record 8 of Set 9 | birin\n",
      "Processing Record 9 of Set 9 | ligayan\n",
      "Processing Record 10 of Set 9 | livingstone\n",
      "Processing Record 11 of Set 9 | kargasok\n",
      "Processing Record 12 of Set 9 | mana\n",
      "Processing Record 13 of Set 9 | harper\n",
      "Processing Record 14 of Set 9 | puerto varas\n",
      "Processing Record 15 of Set 9 | uetendorf\n",
      "Processing Record 16 of Set 9 | vardo\n",
      "Processing Record 17 of Set 9 | novomykolayivka\n",
      "Processing Record 18 of Set 9 | san juan\n",
      "Processing Record 19 of Set 9 | baoqing\n",
      "Processing Record 20 of Set 9 | teya\n",
      "Processing Record 21 of Set 9 | porto velho\n",
      "Processing Record 22 of Set 9 | williston\n",
      "Processing Record 23 of Set 9 | mendi\n",
      "Processing Record 24 of Set 9 | rabat\n",
      "Processing Record 25 of Set 9 | manta\n",
      "City not found. Skipping...\n",
      "Processing Record 26 of Set 9 | hambantota\n",
      "Processing Record 27 of Set 9 | morgan city\n",
      "Processing Record 28 of Set 9 | vanderhoof\n",
      "City not found. Skipping...\n",
      "Processing Record 29 of Set 9 | edd\n",
      "Processing Record 30 of Set 9 | homer\n",
      "Processing Record 31 of Set 9 | port blair\n",
      "Processing Record 32 of Set 9 | abu samrah\n",
      "Processing Record 33 of Set 9 | batticaloa\n",
      "Processing Record 34 of Set 9 | bogale\n",
      "Processing Record 35 of Set 9 | puerto colombia\n",
      "Processing Record 36 of Set 9 | fort-shevchenko\n",
      "Processing Record 37 of Set 9 | inyonga\n",
      "Processing Record 38 of Set 9 | sitka\n",
      "Processing Record 39 of Set 9 | jalu\n",
      "Processing Record 40 of Set 9 | surt\n",
      "City not found. Skipping...\n",
      "Processing Record 41 of Set 9 | severo-yeniseyskiy\n",
      "Processing Record 42 of Set 9 | zhigansk\n",
      "Processing Record 43 of Set 9 | vostok\n",
      "Processing Record 44 of Set 9 | erzin\n",
      "Processing Record 45 of Set 9 | saint-francois\n",
      "Processing Record 46 of Set 9 | ranau\n",
      "City not found. Skipping...\n",
      "Processing Record 47 of Set 9 | ambilobe\n",
      "Processing Record 48 of Set 9 | half moon bay\n",
      "Processing Record 49 of Set 9 | acari\n",
      "Processing Record 1 of Set 10 | puerto escondido\n",
      "Processing Record 2 of Set 10 | sabha\n",
      "Processing Record 3 of Set 10 | salinopolis\n",
      "Processing Record 4 of Set 10 | sobolevo\n",
      "Processing Record 5 of Set 10 | mastung\n",
      "Processing Record 6 of Set 10 | alcala de henares\n",
      "Processing Record 7 of Set 10 | vilhena\n",
      "Processing Record 8 of Set 10 | ranong\n",
      "Processing Record 9 of Set 10 | loa janan\n",
      "Processing Record 10 of Set 10 | kodiak\n",
      "Processing Record 11 of Set 10 | mawlaik\n",
      "Processing Record 12 of Set 10 | riberalta\n",
      "Processing Record 13 of Set 10 | touros\n",
      "Processing Record 14 of Set 10 | sugod\n",
      "Processing Record 15 of Set 10 | iisalmi\n",
      "City not found. Skipping...\n",
      "Processing Record 16 of Set 10 | thiruvananthapuram\n",
      "Processing Record 17 of Set 10 | saint andrews\n",
      "Processing Record 18 of Set 10 | teguldet\n",
      "Processing Record 19 of Set 10 | domoni\n",
      "Processing Record 20 of Set 10 | batagay\n",
      "Processing Record 21 of Set 10 | cabedelo\n",
      "Processing Record 22 of Set 10 | leshukonskoye\n",
      "Processing Record 23 of Set 10 | walvis bay\n",
      "Processing Record 24 of Set 10 | kalanguy\n",
      "Processing Record 25 of Set 10 | aklavik\n",
      "Processing Record 26 of Set 10 | tapes\n",
      "Processing Record 27 of Set 10 | kapoeta\n",
      "Processing Record 28 of Set 10 | margate\n",
      "Processing Record 29 of Set 10 | port pirie\n",
      "Processing Record 30 of Set 10 | farkhor\n",
      "Processing Record 31 of Set 10 | inirida\n",
      "Processing Record 32 of Set 10 | razdolinsk\n",
      "Processing Record 33 of Set 10 | yebaishou\n",
      "Processing Record 34 of Set 10 | okhtyrka\n",
      "Processing Record 35 of Set 10 | caravelas\n",
      "Processing Record 36 of Set 10 | bilbor\n",
      "Processing Record 37 of Set 10 | zlobin\n",
      "Processing Record 38 of Set 10 | moroni\n",
      "Processing Record 39 of Set 10 | montlucon\n",
      "Processing Record 40 of Set 10 | biak\n",
      "Processing Record 41 of Set 10 | luanda\n",
      "Processing Record 42 of Set 10 | biharamulo\n",
      "Processing Record 43 of Set 10 | najran\n",
      "Processing Record 44 of Set 10 | cockburn town\n",
      "Processing Record 45 of Set 10 | kralendijk\n",
      "Processing Record 46 of Set 10 | ketchikan\n",
      "Processing Record 47 of Set 10 | miraflores\n",
      "Processing Record 48 of Set 10 | broome\n",
      "Processing Record 49 of Set 10 | grindavik\n",
      "Processing Record 1 of Set 11 | fairlie\n",
      "Processing Record 2 of Set 11 | puerto carreno\n",
      "Processing Record 3 of Set 11 | tura\n",
      "Processing Record 4 of Set 11 | guayaramerin\n",
      "Processing Record 5 of Set 11 | newport\n",
      "Processing Record 6 of Set 11 | tarko-sale\n",
      "Processing Record 7 of Set 11 | coihaique\n",
      "Processing Record 8 of Set 11 | hornepayne\n",
      "Processing Record 9 of Set 11 | bonthe\n",
      "City not found. Skipping...\n",
      "Processing Record 10 of Set 11 | porbandar\n",
      "Processing Record 11 of Set 11 | airai\n",
      "Processing Record 12 of Set 11 | pangnirtung\n",
      "Processing Record 13 of Set 11 | bodden town\n",
      "Processing Record 14 of Set 11 | dali\n",
      "Processing Record 15 of Set 11 | shurugwi\n",
      "Processing Record 16 of Set 11 | los llanos de aridane\n",
      "Processing Record 17 of Set 11 | bitung\n",
      "Processing Record 18 of Set 11 | pachino\n",
      "Processing Record 19 of Set 11 | pakxan\n",
      "Processing Record 20 of Set 11 | karakol\n",
      "Processing Record 21 of Set 11 | prachuap khiri khan\n",
      "Processing Record 22 of Set 11 | kenai\n",
      "Processing Record 23 of Set 11 | kutum\n",
      "Processing Record 24 of Set 11 | malmyzh\n",
      "Processing Record 25 of Set 11 | ugoofaaru\n",
      "Processing Record 26 of Set 11 | lusambo\n",
      "Processing Record 27 of Set 11 | chipata\n",
      "Processing Record 28 of Set 11 | mizan teferi\n",
      "Processing Record 29 of Set 11 | dryden\n",
      "Processing Record 30 of Set 11 | minggang\n",
      "Processing Record 31 of Set 11 | misratah\n",
      "Processing Record 32 of Set 11 | simeria\n",
      "Processing Record 33 of Set 11 | nata\n",
      "Processing Record 34 of Set 11 | bathsheba\n",
      "Processing Record 35 of Set 11 | husavik\n",
      "Processing Record 36 of Set 11 | aleksandrov gay\n",
      "Processing Record 37 of Set 11 | riyadh\n",
      "Processing Record 38 of Set 11 | hattiesburg\n",
      "Processing Record 39 of Set 11 | zharkent\n",
      "Processing Record 40 of Set 11 | kisangani\n",
      "Processing Record 41 of Set 11 | nome\n",
      "Processing Record 42 of Set 11 | kyren\n",
      "------------------------------\n",
      "Data Retrieval Complete\n",
      "------------------------------\n"
     ]
    }
   ],
   "source": [
    "# define count of pass throughs\n",
    "count_one = 0\n",
    "set_one = 1\n",
    "\n",
    "# set lists for the dataframe\n",
    "Lat=[]\n",
    "Lng=[]\n",
    "Max_Temp=[]\n",
    "Humidity=[]\n",
    "Cloudiness=[]\n",
    "Wind=[]\n",
    "Speed=[]\n",
    "Country=[]\n",
    "Date=[]\n",
    "city_wr=[]\n",
    "\n",
    "# loops for creating dataframe columns\n",
    "for city in cities:\n",
    "    try:\n",
    "        response = requests.get(query_url + city).json()\n",
    "        Lat.append(response['coord']['lat'])\n",
    "        Lng.append(response['coord']['lat'])\n",
    "        Max_Temp.append(response['main']['temp_max'])\n",
    "        Humidity.append(response['main']['humidity'])\n",
    "        Cloudiness.append(response['clouds']['all'])\n",
    "        Wind.append(response['wind']['speed'])\n",
    "        Country.append(response['sys']['country'])\n",
    "        Date.append(response['dt'])\n",
    "        if count_one > 48:\n",
    "            count_one = 1\n",
    "            set_one += 1\n",
    "            city_wr.append(city)\n",
    "        else:\n",
    "            count_one += 1\n",
    "            city_wr.append(city)\n",
    "        print(f\"Processing Record {count_one} of Set {set_one} | {city}\")\n",
    "    except Exception:\n",
    "        print(\"City not found. Skipping...\")\n",
    "print(\"------------------------------\\nData Retrieval Complete\\n------------------------------\")"
   ]
  },
  {
   "cell_type": "markdown",
   "metadata": {},
   "source": [
    "### Convert Raw Data to DataFrame\n",
    "* Export the city data into a .csv.\n",
    "* Display the DataFrame"
   ]
  },
  {
   "cell_type": "code",
   "execution_count": 70,
   "metadata": {},
   "outputs": [
    {
     "data": {
      "text/html": [
       "<div>\n",
       "<style scoped>\n",
       "    .dataframe tbody tr th:only-of-type {\n",
       "        vertical-align: middle;\n",
       "    }\n",
       "\n",
       "    .dataframe tbody tr th {\n",
       "        vertical-align: top;\n",
       "    }\n",
       "\n",
       "    .dataframe thead th {\n",
       "        text-align: right;\n",
       "    }\n",
       "</style>\n",
       "<table border=\"1\" class=\"dataframe\">\n",
       "  <thead>\n",
       "    <tr style=\"text-align: right;\">\n",
       "      <th></th>\n",
       "      <th>City</th>\n",
       "      <th>Lat</th>\n",
       "      <th>Lng</th>\n",
       "      <th>Max_Temp</th>\n",
       "      <th>Humidity</th>\n",
       "      <th>Cloudiness</th>\n",
       "      <th>Wind</th>\n",
       "      <th>Country</th>\n",
       "      <th>Date</th>\n",
       "    </tr>\n",
       "  </thead>\n",
       "  <tbody>\n",
       "    <tr>\n",
       "      <th>0</th>\n",
       "      <td>punta arenas</td>\n",
       "      <td>-53.1500</td>\n",
       "      <td>-53.1500</td>\n",
       "      <td>53.60</td>\n",
       "      <td>62</td>\n",
       "      <td>0</td>\n",
       "      <td>18.41</td>\n",
       "      <td>CL</td>\n",
       "      <td>1612656596</td>\n",
       "    </tr>\n",
       "    <tr>\n",
       "      <th>1</th>\n",
       "      <td>qaanaaq</td>\n",
       "      <td>77.4840</td>\n",
       "      <td>77.4840</td>\n",
       "      <td>9.88</td>\n",
       "      <td>86</td>\n",
       "      <td>98</td>\n",
       "      <td>7.63</td>\n",
       "      <td>GL</td>\n",
       "      <td>1612656596</td>\n",
       "    </tr>\n",
       "    <tr>\n",
       "      <th>2</th>\n",
       "      <td>tasiilaq</td>\n",
       "      <td>65.6145</td>\n",
       "      <td>65.6145</td>\n",
       "      <td>33.80</td>\n",
       "      <td>55</td>\n",
       "      <td>75</td>\n",
       "      <td>28.77</td>\n",
       "      <td>GL</td>\n",
       "      <td>1612656596</td>\n",
       "    </tr>\n",
       "    <tr>\n",
       "      <th>3</th>\n",
       "      <td>vila velha</td>\n",
       "      <td>-20.3297</td>\n",
       "      <td>-20.3297</td>\n",
       "      <td>82.99</td>\n",
       "      <td>88</td>\n",
       "      <td>75</td>\n",
       "      <td>4.61</td>\n",
       "      <td>BR</td>\n",
       "      <td>1612656549</td>\n",
       "    </tr>\n",
       "    <tr>\n",
       "      <th>4</th>\n",
       "      <td>castro</td>\n",
       "      <td>-24.7911</td>\n",
       "      <td>-24.7911</td>\n",
       "      <td>61.12</td>\n",
       "      <td>92</td>\n",
       "      <td>0</td>\n",
       "      <td>10.29</td>\n",
       "      <td>BR</td>\n",
       "      <td>1612656596</td>\n",
       "    </tr>\n",
       "  </tbody>\n",
       "</table>\n",
       "</div>"
      ],
      "text/plain": [
       "           City      Lat      Lng  Max_Temp  Humidity  Cloudiness   Wind  \\\n",
       "0  punta arenas -53.1500 -53.1500     53.60        62           0  18.41   \n",
       "1       qaanaaq  77.4840  77.4840      9.88        86          98   7.63   \n",
       "2      tasiilaq  65.6145  65.6145     33.80        55          75  28.77   \n",
       "3    vila velha -20.3297 -20.3297     82.99        88          75   4.61   \n",
       "4        castro -24.7911 -24.7911     61.12        92           0  10.29   \n",
       "\n",
       "  Country        Date  \n",
       "0      CL  1612656596  \n",
       "1      GL  1612656596  \n",
       "2      GL  1612656596  \n",
       "3      BR  1612656549  \n",
       "4      BR  1612656596  "
      ]
     },
     "execution_count": 70,
     "metadata": {},
     "output_type": "execute_result"
    }
   ],
   "source": [
    "# create a data frame from cities, lat, and temp\n",
    "weather_dict = {\n",
    "        \"City\":city_wr,\n",
    "        \"Lat\":Lat,\n",
    "        \"Lng\":Lng,\n",
    "        \"Max_Temp\":Max_Temp,\n",
    "        \"Humidity\":Humidity,\n",
    "        \"Cloudiness\":Cloudiness,\n",
    "        \"Wind\":Wind,\n",
    "        \"Country\":Country,\n",
    "        \"Date\":Date\n",
    "}\n",
    "weather_df = pd.DataFrame(weather_dict)\n",
    "weather_df.head()"
   ]
  },
  {
   "cell_type": "code",
   "execution_count": 65,
   "metadata": {},
   "outputs": [
    {
     "data": {
      "text/html": [
       "<div>\n",
       "<style scoped>\n",
       "    .dataframe tbody tr th:only-of-type {\n",
       "        vertical-align: middle;\n",
       "    }\n",
       "\n",
       "    .dataframe tbody tr th {\n",
       "        vertical-align: top;\n",
       "    }\n",
       "\n",
       "    .dataframe thead th {\n",
       "        text-align: right;\n",
       "    }\n",
       "</style>\n",
       "<table border=\"1\" class=\"dataframe\">\n",
       "  <thead>\n",
       "    <tr style=\"text-align: right;\">\n",
       "      <th></th>\n",
       "      <th>Lat</th>\n",
       "      <th>Lng</th>\n",
       "      <th>Max_Temp</th>\n",
       "      <th>Humidity</th>\n",
       "      <th>Cloudiness</th>\n",
       "      <th>Wind</th>\n",
       "      <th>Date</th>\n",
       "    </tr>\n",
       "  </thead>\n",
       "  <tbody>\n",
       "    <tr>\n",
       "      <th>count</th>\n",
       "      <td>532.000000</td>\n",
       "      <td>532.000000</td>\n",
       "      <td>532.000000</td>\n",
       "      <td>532.000000</td>\n",
       "      <td>532.000000</td>\n",
       "      <td>532.000000</td>\n",
       "      <td>5.320000e+02</td>\n",
       "    </tr>\n",
       "    <tr>\n",
       "      <th>mean</th>\n",
       "      <td>20.240866</td>\n",
       "      <td>20.240866</td>\n",
       "      <td>49.589680</td>\n",
       "      <td>73.968045</td>\n",
       "      <td>49.954887</td>\n",
       "      <td>7.885526</td>\n",
       "      <td>1.612657e+09</td>\n",
       "    </tr>\n",
       "    <tr>\n",
       "      <th>std</th>\n",
       "      <td>32.850152</td>\n",
       "      <td>32.850152</td>\n",
       "      <td>31.344553</td>\n",
       "      <td>18.481653</td>\n",
       "      <td>39.685271</td>\n",
       "      <td>5.727096</td>\n",
       "      <td>8.076021e+01</td>\n",
       "    </tr>\n",
       "    <tr>\n",
       "      <th>min</th>\n",
       "      <td>-54.800000</td>\n",
       "      <td>-54.800000</td>\n",
       "      <td>-39.570000</td>\n",
       "      <td>12.000000</td>\n",
       "      <td>0.000000</td>\n",
       "      <td>0.110000</td>\n",
       "      <td>1.612656e+09</td>\n",
       "    </tr>\n",
       "    <tr>\n",
       "      <th>25%</th>\n",
       "      <td>-6.213675</td>\n",
       "      <td>-6.213675</td>\n",
       "      <td>31.102500</td>\n",
       "      <td>65.000000</td>\n",
       "      <td>4.000000</td>\n",
       "      <td>3.642500</td>\n",
       "      <td>1.612657e+09</td>\n",
       "    </tr>\n",
       "    <tr>\n",
       "      <th>50%</th>\n",
       "      <td>24.303350</td>\n",
       "      <td>24.303350</td>\n",
       "      <td>60.645000</td>\n",
       "      <td>78.000000</td>\n",
       "      <td>44.500000</td>\n",
       "      <td>6.390000</td>\n",
       "      <td>1.612657e+09</td>\n",
       "    </tr>\n",
       "    <tr>\n",
       "      <th>75%</th>\n",
       "      <td>47.361650</td>\n",
       "      <td>47.361650</td>\n",
       "      <td>75.467500</td>\n",
       "      <td>87.000000</td>\n",
       "      <td>90.000000</td>\n",
       "      <td>10.532500</td>\n",
       "      <td>1.612657e+09</td>\n",
       "    </tr>\n",
       "    <tr>\n",
       "      <th>max</th>\n",
       "      <td>78.218600</td>\n",
       "      <td>78.218600</td>\n",
       "      <td>88.000000</td>\n",
       "      <td>100.000000</td>\n",
       "      <td>100.000000</td>\n",
       "      <td>35.990000</td>\n",
       "      <td>1.612657e+09</td>\n",
       "    </tr>\n",
       "  </tbody>\n",
       "</table>\n",
       "</div>"
      ],
      "text/plain": [
       "              Lat         Lng    Max_Temp    Humidity  Cloudiness        Wind  \\\n",
       "count  532.000000  532.000000  532.000000  532.000000  532.000000  532.000000   \n",
       "mean    20.240866   20.240866   49.589680   73.968045   49.954887    7.885526   \n",
       "std     32.850152   32.850152   31.344553   18.481653   39.685271    5.727096   \n",
       "min    -54.800000  -54.800000  -39.570000   12.000000    0.000000    0.110000   \n",
       "25%     -6.213675   -6.213675   31.102500   65.000000    4.000000    3.642500   \n",
       "50%     24.303350   24.303350   60.645000   78.000000   44.500000    6.390000   \n",
       "75%     47.361650   47.361650   75.467500   87.000000   90.000000   10.532500   \n",
       "max     78.218600   78.218600   88.000000  100.000000  100.000000   35.990000   \n",
       "\n",
       "               Date  \n",
       "count  5.320000e+02  \n",
       "mean   1.612657e+09  \n",
       "std    8.076021e+01  \n",
       "min    1.612656e+09  \n",
       "25%    1.612657e+09  \n",
       "50%    1.612657e+09  \n",
       "75%    1.612657e+09  \n",
       "max    1.612657e+09  "
      ]
     },
     "execution_count": 65,
     "metadata": {},
     "output_type": "execute_result"
    }
   ],
   "source": [
    "weather_df.describe()"
   ]
  },
  {
   "cell_type": "markdown",
   "metadata": {},
   "source": [
    "## Inspect the data and remove the cities where the humidity > 100%.\n",
    "----\n",
    "Skip this step if there are no cities that have humidity > 100%. "
   ]
  },
  {
   "cell_type": "code",
   "execution_count": 71,
   "metadata": {},
   "outputs": [
    {
     "data": {
      "text/html": [
       "<div>\n",
       "<style scoped>\n",
       "    .dataframe tbody tr th:only-of-type {\n",
       "        vertical-align: middle;\n",
       "    }\n",
       "\n",
       "    .dataframe tbody tr th {\n",
       "        vertical-align: top;\n",
       "    }\n",
       "\n",
       "    .dataframe thead th {\n",
       "        text-align: right;\n",
       "    }\n",
       "</style>\n",
       "<table border=\"1\" class=\"dataframe\">\n",
       "  <thead>\n",
       "    <tr style=\"text-align: right;\">\n",
       "      <th></th>\n",
       "      <th>Lat</th>\n",
       "      <th>Lng</th>\n",
       "      <th>Max_Temp</th>\n",
       "      <th>Humidity</th>\n",
       "      <th>Cloudiness</th>\n",
       "      <th>Wind</th>\n",
       "      <th>Date</th>\n",
       "    </tr>\n",
       "  </thead>\n",
       "  <tbody>\n",
       "    <tr>\n",
       "      <th>count</th>\n",
       "      <td>532.000000</td>\n",
       "      <td>532.000000</td>\n",
       "      <td>532.000000</td>\n",
       "      <td>532.000000</td>\n",
       "      <td>532.000000</td>\n",
       "      <td>532.000000</td>\n",
       "      <td>5.320000e+02</td>\n",
       "    </tr>\n",
       "    <tr>\n",
       "      <th>mean</th>\n",
       "      <td>20.240866</td>\n",
       "      <td>20.240866</td>\n",
       "      <td>49.589680</td>\n",
       "      <td>73.968045</td>\n",
       "      <td>49.954887</td>\n",
       "      <td>7.885526</td>\n",
       "      <td>1.612657e+09</td>\n",
       "    </tr>\n",
       "    <tr>\n",
       "      <th>std</th>\n",
       "      <td>32.850152</td>\n",
       "      <td>32.850152</td>\n",
       "      <td>31.344553</td>\n",
       "      <td>18.481653</td>\n",
       "      <td>39.685271</td>\n",
       "      <td>5.727096</td>\n",
       "      <td>8.076021e+01</td>\n",
       "    </tr>\n",
       "    <tr>\n",
       "      <th>min</th>\n",
       "      <td>-54.800000</td>\n",
       "      <td>-54.800000</td>\n",
       "      <td>-39.570000</td>\n",
       "      <td>12.000000</td>\n",
       "      <td>0.000000</td>\n",
       "      <td>0.110000</td>\n",
       "      <td>1.612656e+09</td>\n",
       "    </tr>\n",
       "    <tr>\n",
       "      <th>25%</th>\n",
       "      <td>-6.213675</td>\n",
       "      <td>-6.213675</td>\n",
       "      <td>31.102500</td>\n",
       "      <td>65.000000</td>\n",
       "      <td>4.000000</td>\n",
       "      <td>3.642500</td>\n",
       "      <td>1.612657e+09</td>\n",
       "    </tr>\n",
       "    <tr>\n",
       "      <th>50%</th>\n",
       "      <td>24.303350</td>\n",
       "      <td>24.303350</td>\n",
       "      <td>60.645000</td>\n",
       "      <td>78.000000</td>\n",
       "      <td>44.500000</td>\n",
       "      <td>6.390000</td>\n",
       "      <td>1.612657e+09</td>\n",
       "    </tr>\n",
       "    <tr>\n",
       "      <th>75%</th>\n",
       "      <td>47.361650</td>\n",
       "      <td>47.361650</td>\n",
       "      <td>75.467500</td>\n",
       "      <td>87.000000</td>\n",
       "      <td>90.000000</td>\n",
       "      <td>10.532500</td>\n",
       "      <td>1.612657e+09</td>\n",
       "    </tr>\n",
       "    <tr>\n",
       "      <th>max</th>\n",
       "      <td>78.218600</td>\n",
       "      <td>78.218600</td>\n",
       "      <td>88.000000</td>\n",
       "      <td>100.000000</td>\n",
       "      <td>100.000000</td>\n",
       "      <td>35.990000</td>\n",
       "      <td>1.612657e+09</td>\n",
       "    </tr>\n",
       "  </tbody>\n",
       "</table>\n",
       "</div>"
      ],
      "text/plain": [
       "              Lat         Lng    Max_Temp    Humidity  Cloudiness        Wind  \\\n",
       "count  532.000000  532.000000  532.000000  532.000000  532.000000  532.000000   \n",
       "mean    20.240866   20.240866   49.589680   73.968045   49.954887    7.885526   \n",
       "std     32.850152   32.850152   31.344553   18.481653   39.685271    5.727096   \n",
       "min    -54.800000  -54.800000  -39.570000   12.000000    0.000000    0.110000   \n",
       "25%     -6.213675   -6.213675   31.102500   65.000000    4.000000    3.642500   \n",
       "50%     24.303350   24.303350   60.645000   78.000000   44.500000    6.390000   \n",
       "75%     47.361650   47.361650   75.467500   87.000000   90.000000   10.532500   \n",
       "max     78.218600   78.218600   88.000000  100.000000  100.000000   35.990000   \n",
       "\n",
       "               Date  \n",
       "count  5.320000e+02  \n",
       "mean   1.612657e+09  \n",
       "std    8.076021e+01  \n",
       "min    1.612656e+09  \n",
       "25%    1.612657e+09  \n",
       "50%    1.612657e+09  \n",
       "75%    1.612657e+09  \n",
       "max    1.612657e+09  "
      ]
     },
     "execution_count": 71,
     "metadata": {},
     "output_type": "execute_result"
    }
   ],
   "source": [
    "weather_df.loc[weather_df[\"Humidity\"]<=100].describe()"
   ]
  },
  {
   "cell_type": "code",
   "execution_count": 72,
   "metadata": {},
   "outputs": [
    {
     "name": "stdout",
     "output_type": "stream",
     "text": [
      "Empty DataFrame\n",
      "Columns: [City, Lat, Lng, Max_Temp, Humidity, Cloudiness, Wind, Country, Date]\n",
      "Index: []\n"
     ]
    }
   ],
   "source": [
    "#  Get the indices of cities that have humidity over 100%.\n",
    "print(weather_df.loc[weather_df[\"Humidity\"]>100,:])"
   ]
  },
  {
   "cell_type": "code",
   "execution_count": 19,
   "metadata": {},
   "outputs": [
    {
     "data": {
      "text/html": [
       "<div>\n",
       "<style scoped>\n",
       "    .dataframe tbody tr th:only-of-type {\n",
       "        vertical-align: middle;\n",
       "    }\n",
       "\n",
       "    .dataframe tbody tr th {\n",
       "        vertical-align: top;\n",
       "    }\n",
       "\n",
       "    .dataframe thead th {\n",
       "        text-align: right;\n",
       "    }\n",
       "</style>\n",
       "<table border=\"1\" class=\"dataframe\">\n",
       "  <thead>\n",
       "    <tr style=\"text-align: right;\">\n",
       "      <th></th>\n",
       "      <th>City</th>\n",
       "      <th>Lat</th>\n",
       "      <th>Lng</th>\n",
       "      <th>Max Temp</th>\n",
       "      <th>Humidity</th>\n",
       "      <th>Cloudiness</th>\n",
       "      <th>Wind Speed</th>\n",
       "      <th>Country</th>\n",
       "      <th>Date</th>\n",
       "    </tr>\n",
       "  </thead>\n",
       "  <tbody>\n",
       "    <tr>\n",
       "      <td>0</td>\n",
       "      <td>butaritari</td>\n",
       "      <td>3.07</td>\n",
       "      <td>172.79</td>\n",
       "      <td>83.32</td>\n",
       "      <td>74</td>\n",
       "      <td>84</td>\n",
       "      <td>10.42</td>\n",
       "      <td>KI</td>\n",
       "      <td>1593605283</td>\n",
       "    </tr>\n",
       "    <tr>\n",
       "      <td>1</td>\n",
       "      <td>yerbogachen</td>\n",
       "      <td>61.28</td>\n",
       "      <td>108.01</td>\n",
       "      <td>79.52</td>\n",
       "      <td>58</td>\n",
       "      <td>20</td>\n",
       "      <td>7.70</td>\n",
       "      <td>RU</td>\n",
       "      <td>1593605121</td>\n",
       "    </tr>\n",
       "    <tr>\n",
       "      <td>2</td>\n",
       "      <td>cape town</td>\n",
       "      <td>-33.93</td>\n",
       "      <td>18.42</td>\n",
       "      <td>73.00</td>\n",
       "      <td>77</td>\n",
       "      <td>27</td>\n",
       "      <td>4.70</td>\n",
       "      <td>ZA</td>\n",
       "      <td>1593605039</td>\n",
       "    </tr>\n",
       "    <tr>\n",
       "      <td>3</td>\n",
       "      <td>touba</td>\n",
       "      <td>8.28</td>\n",
       "      <td>-7.68</td>\n",
       "      <td>79.97</td>\n",
       "      <td>75</td>\n",
       "      <td>82</td>\n",
       "      <td>3.58</td>\n",
       "      <td>CI</td>\n",
       "      <td>1593605284</td>\n",
       "    </tr>\n",
       "    <tr>\n",
       "      <td>4</td>\n",
       "      <td>jamestown</td>\n",
       "      <td>42.10</td>\n",
       "      <td>-79.24</td>\n",
       "      <td>64.00</td>\n",
       "      <td>88</td>\n",
       "      <td>1</td>\n",
       "      <td>6.93</td>\n",
       "      <td>US</td>\n",
       "      <td>1593605284</td>\n",
       "    </tr>\n",
       "  </tbody>\n",
       "</table>\n",
       "</div>"
      ],
      "text/plain": [
       "          City    Lat     Lng  Max Temp  Humidity  Cloudiness  Wind Speed  \\\n",
       "0   butaritari   3.07  172.79     83.32        74          84       10.42   \n",
       "1  yerbogachen  61.28  108.01     79.52        58          20        7.70   \n",
       "2    cape town -33.93   18.42     73.00        77          27        4.70   \n",
       "3        touba   8.28   -7.68     79.97        75          82        3.58   \n",
       "4    jamestown  42.10  -79.24     64.00        88           1        6.93   \n",
       "\n",
       "  Country        Date  \n",
       "0      KI  1593605283  \n",
       "1      RU  1593605121  \n",
       "2      ZA  1593605039  \n",
       "3      CI  1593605284  \n",
       "4      US  1593605284  "
      ]
     },
     "execution_count": 19,
     "metadata": {},
     "output_type": "execute_result"
    }
   ],
   "source": [
    "# Make a new DataFrame equal to the city data to drop all humidity outliers by index.\n",
    "# Passing \"inplace=False\" will make a copy of the city_data DataFrame, which we call \"clean_city_data\".\n"
   ]
  },
  {
   "cell_type": "code",
   "execution_count": null,
   "metadata": {},
   "outputs": [],
   "source": [
    "\n"
   ]
  },
  {
   "cell_type": "markdown",
   "metadata": {},
   "source": [
    "## Plotting the Data\n",
    "* Use proper labeling of the plots using plot titles (including date of analysis) and axes labels.\n",
    "* Save the plotted figures as .pngs."
   ]
  },
  {
   "cell_type": "markdown",
   "metadata": {},
   "source": [
    "## Latitude vs. Temperature Plot"
   ]
  },
  {
   "cell_type": "code",
   "execution_count": 85,
   "metadata": {
    "scrolled": true
   },
   "outputs": [
    {
     "data": {
      "image/png": "[encoded data removed]",
      "text/plain": [
       "<Figure size 432x288 with 1 Axes>"
      ]
     },
     "metadata": {
      "needs_background": "light"
     },
     "output_type": "display_data"
    }
   ],
   "source": [
    "plt.title('City Latitude vs. Max Temperature (02/06/21)')\n",
    "plt.xlabel('Latitude')\n",
    "plt.ylabel('Max Temperature(F)')\n",
    "plt.scatter(weather_df['Lat'],weather_df['Max_Temp'],edgecolors='black',facecolor='deepskyblue')\n",
    "plt.grid(b=True, which=\"major\",axis=\"both\", linestyle=\"-\",color=\"gray\")\n",
    "plt.savefig('Figures/fig1.png')\n",
    "plt.show()"
   ]
  },
  {
   "cell_type": "markdown",
   "metadata": {},
   "source": [
    "## Latitude vs. Humidity Plot"
   ]
  },
  {
   "cell_type": "code",
   "execution_count": 86,
   "metadata": {},
   "outputs": [
    {
     "data": {
      "image/png": "[encoded data removed]",
      "text/plain": [
       "<Figure size 432x288 with 1 Axes>"
      ]
     },
     "metadata": {
      "needs_background": "light"
     },
     "output_type": "display_data"
    }
   ],
   "source": [
    "plt.title('City Latitude vs. Humidity (02/06/21)')\n",
    "plt.xlabel('Latitude')\n",
    "plt.ylabel('Humidity(%)')\n",
    "plt.scatter(weather_df['Lat'],weather_df['Humidity'],edgecolors='black',facecolor='deepskyblue')\n",
    "plt.grid(b=True, which=\"major\",axis=\"both\", linestyle=\"-\",color=\"gray\")\n",
    "plt.savefig('Figures/fig2.png')\n",
    "plt.show()"
   ]
  },
  {
   "cell_type": "markdown",
   "metadata": {},
   "source": [
    "## Latitude vs. Cloudiness Plot"
   ]
  },
  {
   "cell_type": "code",
   "execution_count": 87,
   "metadata": {},
   "outputs": [
    {
     "data": {
      "image/png": "[encoded data removed]",
      "text/plain": [
       "<Figure size 432x288 with 1 Axes>"
      ]
     },
     "metadata": {
      "needs_background": "light"
     },
     "output_type": "display_data"
    }
   ],
   "source": [
    "plt.title('City Latitude vs. Cloudiness (02/06/21)')\n",
    "plt.xlabel('Latitude')\n",
    "plt.ylabel('Cloudiness(%)')\n",
    "plt.scatter(weather_df['Lat'],weather_df['Cloudiness'],edgecolors='black',facecolor='deepskyblue')\n",
    "plt.grid(b=True, which=\"major\",axis=\"both\", linestyle=\"-\",color=\"gray\")\n",
    "plt.savefig('Figures/fig3.png')\n",
    "plt.show()"
   ]
  },
  {
   "cell_type": "markdown",
   "metadata": {},
   "source": [
    "## Latitude vs. Wind Speed Plot"
   ]
  },
  {
   "cell_type": "code",
   "execution_count": 88,
   "metadata": {},
   "outputs": [
    {
     "data": {
      "image/png": "[encoded data removed]",
      "text/plain": [
       "<Figure size 432x288 with 1 Axes>"
      ]
     },
     "metadata": {
      "needs_background": "light"
     },
     "output_type": "display_data"
    }
   ],
   "source": [
    "plt.title('City Latitude vs. Wind Speed (02/06/21)')\n",
    "plt.xlabel('Latitude')\n",
    "plt.ylabel('Wind Speed (mph)')\n",
    "plt.scatter(weather_df['Lat'],weather_df['Wind'],edgecolors='black',facecolor='deepskyblue')\n",
    "plt.grid(b=True, which=\"major\",axis=\"both\", linestyle=\"-\",color=\"gray\")\n",
    "plt.savefig('Figures/fig4.png')\n",
    "plt.show()"
   ]
  },
  {
   "cell_type": "markdown",
   "metadata": {},
   "source": [
    "## Linear Regression"
   ]
  },
  {
   "cell_type": "code",
   "execution_count": 108,
   "metadata": {},
   "outputs": [],
   "source": [
    "north=weather_df.loc[weather_df['Lat']>0,:]\n",
    "south=weather_df.loc[weather_df['Lat']<0,:]"
   ]
  },
  {
   "cell_type": "markdown",
   "metadata": {},
   "source": [
    "####  Northern Hemisphere - Max Temp vs. Latitude Linear Regression"
   ]
  },
  {
   "cell_type": "code",
   "execution_count": 133,
   "metadata": {},
   "outputs": [
    {
     "name": "stdout",
     "output_type": "stream",
     "text": [
      "The r-value is -0.85.\n"
     ]
    },
    {
     "data": {
      "image/png": "[encoded data removed]",
      "text/plain": [
       "<Figure size 432x288 with 1 Axes>"
      ]
     },
     "metadata": {
      "needs_background": "light"
     },
     "output_type": "display_data"
    }
   ],
   "source": [
    "\n",
    "plt.title('Northern Hemisphere - Max Temp vs. Latitude Linear Regression (02/06/21)')\n",
    "plt.xlabel('Latitude')\n",
    "plt.ylabel('Max Temperature(F)')\n",
    "correlation=st.pearsonr(north['Lat'],north['Max_Temp'])\n",
    "# Print the answer to above calculation\n",
    "print(f\"\"\"The r-value is {round(correlation[0],2)}.\"\"\")\n",
    "\n",
    "# Calculate linear regression\n",
    "(slope, intercept, rvalue, pvalue, stderr) = linregress(north['Lat'],north['Max_Temp'])\n",
    "regress_values = north['Lat'] * slope + intercept\n",
    "line_eq = \"y = \" + str(round(slope,2)) + \"x + \" + str(round(intercept,2))\n",
    "\n",
    "plt.scatter(north['Lat'],north['Max_Temp'],facecolor='deepskyblue')\n",
    "plt.plot(north['Lat'],regress_values,\"r-\")\n",
    "plt.annotate(line_eq,(10,-30),fontsize=15,color=\"red\")\n",
    "plt.savefig('Figures/fig5.png')\n",
    "plt.show()"
   ]
  },
  {
   "cell_type": "markdown",
   "metadata": {},
   "source": [
    "####  Southern Hemisphere - Max Temp vs. Latitude Linear Regression"
   ]
  },
  {
   "cell_type": "code",
   "execution_count": 134,
   "metadata": {},
   "outputs": [
    {
     "name": "stdout",
     "output_type": "stream",
     "text": [
      "The r-value is 0.51.\n"
     ]
    },
    {
     "data": {
      "image/png": "[encoded data removed]",
      "text/plain": [
       "<Figure size 432x288 with 1 Axes>"
      ]
     },
     "metadata": {
      "needs_background": "light"
     },
     "output_type": "display_data"
    }
   ],
   "source": [
    "\n",
    "plt.title('Southern Hemisphere - Max Temp vs. Latitude Linear Regression (02/06/21)')\n",
    "plt.xlabel('Latitude')\n",
    "plt.ylabel('Max Temperature(F)')\n",
    "correlation=st.pearsonr(south['Lat'],south['Max_Temp'])\n",
    "# Print the answer to above calculation\n",
    "print(f\"\"\"The r-value is {round(correlation[0],2)}.\"\"\")\n",
    "# Calculate linear regression\n",
    "(slope, intercept, rvalue, pvalue, stderr) = linregress(south['Lat'],south['Max_Temp'])\n",
    "regress_values = south['Lat'] * slope + intercept\n",
    "line_eq = \"y = \" + str(round(slope,2)) + \"x + \" + str(round(intercept,2))\n",
    "\n",
    "plt.scatter(south['Lat'],south['Max_Temp'],facecolor='deepskyblue')\n",
    "plt.plot(south['Lat'],regress_values,\"r-\")\n",
    "plt.annotate(line_eq,(-40,40),fontsize=15,color=\"red\")\n",
    "plt.savefig('Figures/fig6.png')\n",
    "plt.show()\n"
   ]
  },
  {
   "cell_type": "markdown",
   "metadata": {},
   "source": [
    "####  Northern Hemisphere - Humidity (%) vs. Latitude Linear Regression"
   ]
  },
  {
   "cell_type": "code",
   "execution_count": 135,
   "metadata": {},
   "outputs": [
    {
     "name": "stdout",
     "output_type": "stream",
     "text": [
      "The r-value is 0.31.\n"
     ]
    },
    {
     "data": {
      "image/png": "[encoded data removed]",
      "text/plain": [
       "<Figure size 432x288 with 1 Axes>"
      ]
     },
     "metadata": {
      "needs_background": "light"
     },
     "output_type": "display_data"
    }
   ],
   "source": [
    "\n",
    "plt.title('Northern Hemisphere - Humidity vs. Latitude Linear Regression (02/06/21)')\n",
    "plt.xlabel('Latitude')\n",
    "plt.ylabel('Humidity')\n",
    "correlation=st.pearsonr(north['Lat'],north['Humidity'])\n",
    "# Print the answer to above calculation\n",
    "print(f\"\"\"The r-value is {round(correlation[0],2)}.\"\"\")\n",
    "\n",
    "# Calculate linear regression\n",
    "(slope, intercept, rvalue, pvalue, stderr) = linregress(north['Lat'],north['Humidity'])\n",
    "regress_values = north['Lat'] * slope + intercept\n",
    "line_eq = \"y = \" + str(round(slope,2)) + \"x + \" + str(round(intercept,2))\n",
    "\n",
    "plt.scatter(north['Lat'],north['Humidity'],facecolor='deepskyblue')\n",
    "plt.plot(north['Lat'],regress_values,\"r-\")\n",
    "plt.annotate(line_eq,(40,20),fontsize=15,color=\"red\")\n",
    "plt.savefig('Figures/fig7.png')\n",
    "plt.show()"
   ]
  },
  {
   "cell_type": "markdown",
   "metadata": {},
   "source": [
    "####  Southern Hemisphere - Humidity (%) vs. Latitude Linear Regression"
   ]
  },
  {
   "cell_type": "code",
   "execution_count": 136,
   "metadata": {},
   "outputs": [
    {
     "name": "stdout",
     "output_type": "stream",
     "text": [
      "The r-value is 0.38.\n"
     ]
    },
    {
     "data": {
      "image/png": "[encoded data removed]",
      "text/plain": [
       "<Figure size 432x288 with 1 Axes>"
      ]
     },
     "metadata": {
      "needs_background": "light"
     },
     "output_type": "display_data"
    }
   ],
   "source": [
    "plt.title('Southern Hemisphere - Humidity vs. Latitude Linear Regression (02/06/21)')\n",
    "plt.xlabel('Latitude')\n",
    "plt.ylabel('Humidity')\n",
    "correlation=st.pearsonr(south['Lat'],south['Humidity'])\n",
    "# Print the answer to above calculation\n",
    "print(f\"\"\"The r-value is {round(correlation[0],2)}.\"\"\")\n",
    "# Calculate linear regression\n",
    "(slope, intercept, rvalue, pvalue, stderr) = linregress(south['Lat'],south['Humidity'])\n",
    "regress_values = south['Lat'] * slope + intercept\n",
    "line_eq = \"y = \" + str(round(slope,2)) + \"x + \" + str(round(intercept,2))\n",
    "\n",
    "plt.scatter(south['Lat'],south['Humidity'],facecolor='deepskyblue')\n",
    "plt.plot(south['Lat'],regress_values,\"r-\")\n",
    "plt.annotate(line_eq,(-40,40),fontsize=15,color=\"red\")\n",
    "plt.savefig('Figures/fig8.png')\n",
    "plt.show()"
   ]
  },
  {
   "cell_type": "markdown",
   "metadata": {},
   "source": [
    "####  Northern Hemisphere - Cloudiness (%) vs. Latitude Linear Regression"
   ]
  },
  {
   "cell_type": "code",
   "execution_count": 137,
   "metadata": {},
   "outputs": [
    {
     "name": "stdout",
     "output_type": "stream",
     "text": [
      "The r-value is 0.2.\n"
     ]
    },
    {
     "data": {
      "image/png": "[encoded data removed]",
      "text/plain": [
       "<Figure size 432x288 with 1 Axes>"
      ]
     },
     "metadata": {
      "needs_background": "light"
     },
     "output_type": "display_data"
    }
   ],
   "source": [
    "plt.title('Northern Hemisphere - Cloudiness vs. Latitude Linear Regression (02/06/21)')\n",
    "plt.xlabel('Latitude')\n",
    "plt.ylabel('Cloudiness')\n",
    "correlation=st.pearsonr(north['Lat'],north['Cloudiness'])\n",
    "# Print the answer to above calculation\n",
    "print(f\"\"\"The r-value is {round(correlation[0],2)}.\"\"\")\n",
    "\n",
    "# Calculate linear regression\n",
    "(slope, intercept, rvalue, pvalue, stderr) = linregress(north['Lat'],north['Cloudiness'])\n",
    "regress_values = north['Lat'] * slope + intercept\n",
    "line_eq = \"y = \" + str(round(slope,2)) + \"x + \" + str(round(intercept,2))\n",
    "\n",
    "plt.scatter(north['Lat'],north['Cloudiness'],facecolor='deepskyblue')\n",
    "plt.plot(north['Lat'],regress_values,\"r-\")\n",
    "plt.annotate(line_eq,(40,20),fontsize=15,color=\"red\")\n",
    "plt.savefig('Figures/fig9.png')\n",
    "plt.show()"
   ]
  },
  {
   "cell_type": "markdown",
   "metadata": {},
   "source": [
    "####  Southern Hemisphere - Cloudiness (%) vs. Latitude Linear Regression"
   ]
  },
  {
   "cell_type": "code",
   "execution_count": 138,
   "metadata": {},
   "outputs": [
    {
     "name": "stdout",
     "output_type": "stream",
     "text": [
      "The r-value is 0.42.\n"
     ]
    },
    {
     "data": {
      "image/png": "[encoded data removed]",
      "text/plain": [
       "<Figure size 432x288 with 1 Axes>"
      ]
     },
     "metadata": {
      "needs_background": "light"
     },
     "output_type": "display_data"
    }
   ],
   "source": [
    "plt.title('Southern Hemisphere - Cloudiness vs. Latitude Linear Regression (02/06/21)')\n",
    "plt.xlabel('Latitude')\n",
    "plt.ylabel('Cloudiness')\n",
    "correlation=st.pearsonr(south['Lat'],south['Cloudiness'])\n",
    "# Print the answer to above calculation\n",
    "print(f\"\"\"The r-value is {round(correlation[0],2)}.\"\"\")\n",
    "# Calculate linear regression\n",
    "(slope, intercept, rvalue, pvalue, stderr) = linregress(south['Lat'],south['Cloudiness'])\n",
    "regress_values = south['Lat'] * slope + intercept\n",
    "line_eq = \"y = \" + str(round(slope,2)) + \"x + \" + str(round(intercept,2))\n",
    "\n",
    "plt.scatter(south['Lat'],south['Cloudiness'],facecolor='deepskyblue')\n",
    "plt.plot(south['Lat'],regress_values,\"r-\")\n",
    "plt.annotate(line_eq,(-40,20),fontsize=15,color=\"red\")\n",
    "plt.savefig('Figures/fig10.png')\n",
    "plt.show()"
   ]
  },
  {
   "cell_type": "markdown",
   "metadata": {},
   "source": [
    "####  Northern Hemisphere - Wind Speed (mph) vs. Latitude Linear Regression"
   ]
  },
  {
   "cell_type": "code",
   "execution_count": 139,
   "metadata": {},
   "outputs": [
    {
     "name": "stdout",
     "output_type": "stream",
     "text": [
      "The r-value is 0.18.\n"
     ]
    },
    {
     "data": {
      "image/png": "[encoded data removed]",
      "text/plain": [
       "<Figure size 432x288 with 1 Axes>"
      ]
     },
     "metadata": {
      "needs_background": "light"
     },
     "output_type": "display_data"
    }
   ],
   "source": [
    "plt.title('Northern Hemisphere - Wind Speed vs. Latitude Linear Regression (02/06/21)')\n",
    "plt.xlabel('Latitude')\n",
    "plt.ylabel('Wind Speed')\n",
    "correlation=st.pearsonr(north['Lat'],north['Wind'])\n",
    "# Print the answer to above calculation\n",
    "print(f\"\"\"The r-value is {round(correlation[0],2)}.\"\"\")\n",
    "\n",
    "# Calculate linear regression\n",
    "(slope, intercept, rvalue, pvalue, stderr) = linregress(north['Lat'],north['Wind'])\n",
    "regress_values = north['Lat'] * slope + intercept\n",
    "line_eq = \"y = \" + str(round(slope,2)) + \"x + \" + str(round(intercept,2))\n",
    "\n",
    "plt.scatter(north['Lat'],north['Wind'],facecolor='deepskyblue')\n",
    "plt.plot(north['Lat'],regress_values,\"r-\")\n",
    "plt.annotate(line_eq,(40,20),fontsize=15,color=\"red\")\n",
    "plt.savefig('Figures/fig11.png')\n",
    "plt.show()"
   ]
  },
  {
   "cell_type": "markdown",
   "metadata": {},
   "source": [
    "####  Southern Hemisphere - Wind Speed (mph) vs. Latitude Linear Regression"
   ]
  },
  {
   "cell_type": "code",
   "execution_count": 140,
   "metadata": {},
   "outputs": [
    {
     "name": "stdout",
     "output_type": "stream",
     "text": [
      "The r-value is -0.3.\n"
     ]
    },
    {
     "data": {
      "image/png": "[encoded data removed]",
      "text/plain": [
       "<Figure size 432x288 with 1 Axes>"
      ]
     },
     "metadata": {
      "needs_background": "light"
     },
     "output_type": "display_data"
    }
   ],
   "source": [
    "plt.title('Southern Hemisphere - Wind Speed vs. Latitude Linear Regression (02/06/21)')\n",
    "plt.xlabel('Latitude')\n",
    "plt.ylabel('Wind Speed')\n",
    "correlation=st.pearsonr(south['Lat'],south['Wind'])\n",
    "# Print the answer to above calculation\n",
    "print(f\"\"\"The r-value is {round(correlation[0],2)}.\"\"\")\n",
    "# Calculate linear regression\n",
    "(slope, intercept, rvalue, pvalue, stderr) = linregress(south['Lat'],south['Wind'])\n",
    "regress_values = south['Lat'] * slope + intercept\n",
    "line_eq = \"y = \" + str(round(slope,2)) + \"x + \" + str(round(intercept,2))\n",
    "\n",
    "plt.scatter(south['Lat'],south['Wind'],facecolor='deepskyblue')\n",
    "plt.plot(south['Lat'],regress_values,\"r-\")\n",
    "plt.annotate(line_eq,(-40,20),fontsize=15,color=\"red\")\n",
    "plt.savefig('Figures/fig12.png')\n",
    "plt.show()"
   ]
  },
  {
   "cell_type": "code",
   "execution_count": null,
   "metadata": {},
   "outputs": [],
   "source": []
  }
 ],
 "metadata": {
  "anaconda-cloud": {},
  "kernel_info": {
   "name": "python3"
  },
  "kernelspec": {
   "display_name": "Python 3",
   "language": "python",
   "name": "python3"
  },
  "language_info": {
   "codemirror_mode": {
    "name": "ipython",
    "version": 3
   },
   "file_extension": ".py",
   "mimetype": "text/x-python",
   "name": "python",
   "nbconvert_exporter": "python",
   "pygments_lexer": "ipython3",
   "version": "3.8.5"
  },
  "latex_envs": {
   "LaTeX_envs_menu_present": true,
   "autoclose": false,
   "autocomplete": true,
   "bibliofile": "biblio.bib",
   "cite_by": "apalike",
   "current_citInitial": 1,
   "eqLabelWithNumbers": true,
   "eqNumInitial": 1,
   "hotkeys": {
    "equation": "Ctrl-E",
    "itemize": "Ctrl-I"
   },
   "labels_anchors": false,
   "latex_user_defs": false,
   "report_style_numbering": false,
   "user_envs_cfg": false
  },
  "nteract": {
   "version": "0.12.3"
  }
 },
 "nbformat": 4,
 "nbformat_minor": 2
}
